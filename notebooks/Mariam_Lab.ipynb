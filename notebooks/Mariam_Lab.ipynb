{
 "cells": [
  {
   "cell_type": "code",
   "execution_count": 3,
   "id": "4f80dba7-d29c-4b54-9518-6d9b5d691c0f",
   "metadata": {},
   "outputs": [
    {
     "name": "stdin",
     "output_type": "stream",
     "text": [
      "Enter a sentence or paragraph:  the sentence is happy\n"
     ]
    }
   ],
   "source": [
    "import string\n",
    "def get_user_input():\n",
    "    txt=input('Enter a sentence or paragraph: ')\n",
    "    txt1=''\n",
    "    for ch in txt:\n",
    "        if ch not in string.punctuation:\n",
    "            txt1+= ch\n",
    "    return txt1\n",
    "text= get_user_input()"
   ]
  },
  {
   "cell_type": "code",
   "execution_count": 7,
   "id": "3cfefad4-02d8-405c-920c-a39f6980fcd1",
   "metadata": {},
   "outputs": [],
   "source": [
    "positive_words= [\"happy\", \"good\", \"great\", \"awesome\", \"wonderful\", \"amazing\",\"excellent\", \"fantastic\", \"lovely\", \"nice\"]\n",
    "negative_words= [\"sad\", \"bad\", \"terrible\", \"awful\", \"horrible\", \"unpleasant\",\"harmful\" \"detrimental\"]\n",
    "def analyze_sentiment(text, positive_words, negative_words):\n",
    "    text=text.lower()\n",
    "    words=text.split()\n",
    "    pos_count = 0\n",
    "    neg_count = 0\n",
    "    for word in words:\n",
    "        if word in positive_words:\n",
    "            pos_count += 1\n",
    "        elif word in negative_words:\n",
    "            neg_count += 1\n",
    "        else:\n",
    "            continue\n",
    "    return pos_count,neg_count\n",
    "counts= analyze_sentiment(text, positive_words, negative_words)\n",
    "positive_count, negative_count = counts"
   ]
  },
  {
   "cell_type": "code",
   "execution_count": 8,
   "id": "228fe76f-77b8-4f35-8940-6518fd293968",
   "metadata": {},
   "outputs": [],
   "source": [
    "def determine_sentiment(positive_count, negative_count):\n",
    "    if positive_count > negative_count:\n",
    "        sent = 'Positive'\n",
    "    elif negative_count > positive_count:\n",
    "        sent = 'Negative'\n",
    "    else: \n",
    "        sent = 'Neutral'\n",
    "    return sent\n",
    "sentiment =determine_sentiment(positive_count, negative_count)"
   ]
  },
  {
   "cell_type": "code",
   "execution_count": 9,
   "id": "11a50609-0434-495e-80a0-c382ab4226c2",
   "metadata": {},
   "outputs": [
    {
     "name": "stdout",
     "output_type": "stream",
     "text": [
      "The sentiment is Positive words: 1, Negative words: 0, Sentiment: Positive\n"
     ]
    }
   ],
   "source": [
    "def display_results(positive_count, negative_count, sentiment):\n",
    "    return f\"Positive words: {positive_count}, Negative words: {negative_count}, Sentiment: {sentiment}\"\n",
    "final_result = display_results(positive_count, negative_count, sentiment)\n",
    "print(f'The sentiment is {final_result}')"
   ]
  },
  {
   "cell_type": "code",
   "execution_count": null,
   "id": "5b6604d4-09f2-4bed-977b-fc81b609a0b2",
   "metadata": {},
   "outputs": [],
   "source": []
  },
  {
   "cell_type": "code",
   "execution_count": null,
   "id": "4e883ba8-3116-4538-9dc9-754a169debc4",
   "metadata": {},
   "outputs": [],
   "source": []
  },
  {
   "cell_type": "code",
   "execution_count": null,
   "id": "8f0631a7-f169-4adb-9bf6-5369b7b383bc",
   "metadata": {},
   "outputs": [],
   "source": []
  },
  {
   "cell_type": "code",
   "execution_count": null,
   "id": "e402d142-ea16-4ebd-99ad-0d47c51487b0",
   "metadata": {},
   "outputs": [],
   "source": []
  }
 ],
 "metadata": {
  "kernelspec": {
   "display_name": "Python 3 (ipykernel)",
   "language": "python",
   "name": "python3"
  },
  "language_info": {
   "codemirror_mode": {
    "name": "ipython",
    "version": 3
   },
   "file_extension": ".py",
   "mimetype": "text/x-python",
   "name": "python",
   "nbconvert_exporter": "python",
   "pygments_lexer": "ipython3",
   "version": "3.13.5"
  }
 },
 "nbformat": 4,
 "nbformat_minor": 5
}
